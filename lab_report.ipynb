{
 "cells": [
  {
   "cell_type": "code",
   "execution_count": 1,
   "id": "d0c8e4e6",
   "metadata": {},
   "outputs": [],
   "source": [
    "import numpy as np\n",
    "import pandas as pd\n",
    "from sklearn import datasets\n",
    "from sklearn.model_selection import train_test_split, GridSearchCV\n",
    "from sklearn.svm import SVC\n",
    "from sklearn.preprocessing import StandardScaler\n",
    "from sklearn.metrics import classification_report, accuracy_score\n",
    "import matplotlib.pyplot as plt\n"
   ]
  },
  {
   "cell_type": "code",
   "execution_count": 2,
   "metadata": {},
   "outputs": [],
   "source": [
    "# Load the Iris dataset\n",
    "iris = datasets.load_iris()\n",
    "X = iris.data\n",
    "y = iris.target"
   ]
  },
  {
   "cell_type": "code",
   "execution_count": 3,
   "id": "3f568293",
   "metadata": {},
   "outputs": [],
   "source": [
    "# Split the dataset into training and testing sets\n",
    "X_train, X_test, y_train, y_test = train_test_split(X, y, test_size=0.3, random_state=42)"
   ]
  },
  {
   "cell_type": "code",
   "execution_count": 4,
   "id": "833d287c",
   "metadata": {},
   "outputs": [],
   "source": [
    "# Standardize the data (important for SVM models)\n",
    "scaler = StandardScaler()\n",
    "X_train = scaler.fit_transform(X_train)\n",
    "X_test = scaler.transform(X_test)"
   ]
  },
  {
   "cell_type": "code",
   "execution_count": 5,
   "id": "d75a4d76",
   "metadata": {},
   "outputs": [],
   "source": [
    "# Hyperparameter grids for tuning\n",
    "param_grid_linear = {'C': [0.1, 1, 10]}\n",
    "param_grid_poly = {'C': [0.1, 1, 10], 'degree': [2, 3, 4], 'coef0': [0, 1]}\n",
    "param_grid_rbf = {'C': [0.1, 1, 10], 'gamma': ['scale', 'auto']}\n"
   ]
  },
  {
   "cell_type": "code",
   "execution_count": 6,
   "id": "e395f473",
   "metadata": {},
   "outputs": [],
   "source": [
    "# Define SVM models\n",
    "svm_linear = SVC(kernel='linear')\n",
    "svm_poly = SVC(kernel='poly')\n",
    "svm_rbf = SVC(kernel='rbf')"
   ]
  },
  {
   "cell_type": "code",
   "execution_count": 7,
   "id": "d6fb78ec",
   "metadata": {},
   "outputs": [
    {
     "name": "stdout",
     "output_type": "stream",
     "text": [
      "Fitting 5 folds for each of 3 candidates, totalling 15 fits\n",
      "Best parameters for Linear Kernel: {'C': 10}\n",
      "Best score for Linear Kernel: 0.9523809523809523\n"
     ]
    }
   ],
   "source": [
    "# GridSearchCV for Linear Kernel\n",
    "grid_linear = GridSearchCV(svm_linear, param_grid_linear, cv=5, n_jobs=-1, verbose=1)\n",
    "grid_linear.fit(X_train, y_train)\n",
    "print(f\"Best parameters for Linear Kernel: {grid_linear.best_params_}\")\n",
    "print(f\"Best score for Linear Kernel: {grid_linear.best_score_}\")"
   ]
  },
  {
   "cell_type": "code",
   "execution_count": 8,
   "id": "eb0d5d2a",
   "metadata": {},
   "outputs": [
    {
     "name": "stdout",
     "output_type": "stream",
     "text": [
      "Fitting 5 folds for each of 18 candidates, totalling 90 fits\n",
      "Best parameters for Polynomial Kernel: {'C': 1, 'coef0': 1, 'degree': 2}\n",
      "Best score for Polynomial Kernel: 0.9619047619047618\n"
     ]
    }
   ],
   "source": [
    "# GridSearchCV for Polynomial Kernel\n",
    "grid_poly = GridSearchCV(svm_poly, param_grid_poly, cv=5, n_jobs=-1, verbose=1)\n",
    "grid_poly.fit(X_train, y_train)\n",
    "print(f\"Best parameters for Polynomial Kernel: {grid_poly.best_params_}\")\n",
    "print(f\"Best score for Polynomial Kernel: {grid_poly.best_score_}\")\n"
   ]
  },
  {
   "cell_type": "code",
   "execution_count": 9,
   "id": "e43f639a",
   "metadata": {},
   "outputs": [
    {
     "name": "stdout",
     "output_type": "stream",
     "text": [
      "Fitting 5 folds for each of 6 candidates, totalling 30 fits\n",
      "Best parameters for RBF Kernel: {'C': 1, 'gamma': 'scale'}\n",
      "Best score for RBF Kernel: 0.9428571428571428\n"
     ]
    }
   ],
   "source": [
    "# GridSearchCV for RBF Kernel\n",
    "grid_rbf = GridSearchCV(svm_rbf, param_grid_rbf, cv=5, n_jobs=-1, verbose=1)\n",
    "grid_rbf.fit(X_train, y_train)\n",
    "print(f\"Best parameters for RBF Kernel: {grid_rbf.best_params_}\")\n",
    "print(f\"Best score for RBF Kernel: {grid_rbf.best_score_}\")"
   ]
  },
  {
   "cell_type": "code",
   "execution_count": 10,
   "metadata": {},
   "outputs": [],
   "source": [
    "# Predict with the best models and evaluate accuracy\n",
    "y_pred_linear = grid_linear.predict(X_test)\n",
    "y_pred_poly = grid_poly.predict(X_test)\n",
    "y_pred_rbf = grid_rbf.predict(X_test)\n"
   ]
  },
  {
   "cell_type": "code",
   "execution_count": 11,
   "metadata": {},
   "outputs": [
    {
     "name": "stdout",
     "output_type": "stream",
     "text": [
      "\n",
      "Linear Kernel Classification Report:\n",
      "              precision    recall  f1-score   support\n",
      "\n",
      "           0       1.00      1.00      1.00        19\n",
      "           1       1.00      0.92      0.96        13\n",
      "           2       0.93      1.00      0.96        13\n",
      "\n",
      "    accuracy                           0.98        45\n",
      "   macro avg       0.98      0.97      0.97        45\n",
      "weighted avg       0.98      0.98      0.98        45\n",
      "\n"
     ]
    }
   ],
   "source": [
    "# Print classification report for each model\n",
    "print(\"\\nLinear Kernel Classification Report:\")\n",
    "print(classification_report(y_test, y_pred_linear))\n"
   ]
  },
  {
   "cell_type": "code",
   "execution_count": 12,
   "id": "f7b675c4",
   "metadata": {},
   "outputs": [
    {
     "name": "stdout",
     "output_type": "stream",
     "text": [
      "\n",
      "Polynomial Kernel Classification Report:\n",
      "              precision    recall  f1-score   support\n",
      "\n",
      "           0       1.00      1.00      1.00        19\n",
      "           1       1.00      1.00      1.00        13\n",
      "           2       1.00      1.00      1.00        13\n",
      "\n",
      "    accuracy                           1.00        45\n",
      "   macro avg       1.00      1.00      1.00        45\n",
      "weighted avg       1.00      1.00      1.00        45\n",
      "\n"
     ]
    }
   ],
   "source": [
    "print(\"\\nPolynomial Kernel Classification Report:\")\n",
    "print(classification_report(y_test, y_pred_poly))\n"
   ]
  },
  {
   "cell_type": "code",
   "execution_count": 13,
   "metadata": {},
   "outputs": [
    {
     "name": "stdout",
     "output_type": "stream",
     "text": [
      "\n",
      "RBF Kernel Classification Report:\n",
      "              precision    recall  f1-score   support\n",
      "\n",
      "           0       1.00      1.00      1.00        19\n",
      "           1       1.00      1.00      1.00        13\n",
      "           2       1.00      1.00      1.00        13\n",
      "\n",
      "    accuracy                           1.00        45\n",
      "   macro avg       1.00      1.00      1.00        45\n",
      "weighted avg       1.00      1.00      1.00        45\n",
      "\n"
     ]
    }
   ],
   "source": [
    "print(\"\\nRBF Kernel Classification Report:\")\n",
    "print(classification_report(y_test, y_pred_rbf))"
   ]
  },
  {
   "cell_type": "code",
   "execution_count": 14,
   "id": "d5bba9a7",
   "metadata": {},
   "outputs": [],
   "source": [
    "# Accuracy scores of each model\n",
    "accuracy_scores = {\n",
    "    'Linear Kernel': accuracy_score(y_test, y_pred_linear),\n",
    "    'Polynomial Kernel': accuracy_score(y_test, y_pred_poly),\n",
    "    'RBF Kernel': accuracy_score(y_test, y_pred_rbf)\n",
    "}\n"
   ]
  },
  {
   "cell_type": "code",
   "execution_count": 15,
   "id": "9d6eca94",
   "metadata": {},
   "outputs": [
    {
     "name": "stdout",
     "output_type": "stream",
     "text": [
      "\n",
      "Accuracy Scores:\n",
      "Linear Kernel: 0.98\n",
      "Polynomial Kernel: 1.00\n",
      "RBF Kernel: 1.00\n"
     ]
    }
   ],
   "source": [
    "print(\"\\nAccuracy Scores:\")\n",
    "for kernel, score in accuracy_scores.items():\n",
    "    print(f\"{kernel}: {score:.2f}\")"
   ]
  },
  {
   "cell_type": "code",
   "execution_count": 16,
   "id": "625a7009",
   "metadata": {},
   "outputs": [
    {
     "data": {
      "image/png": "[encoded data removed]",
      "text/plain": [
       "<Figure size 640x480 with 1 Axes>"
      ]
     },
     "metadata": {},
     "output_type": "display_data"
    }
   ],
   "source": [
    "# Plot the accuracy scores\n",
    "plt.bar(accuracy_scores.keys(), accuracy_scores.values())\n",
    "plt.ylabel('Accuracy')\n",
    "plt.title('SVM Kernel Performance Comparison')\n",
    "plt.show()"
   ]
  },
  {
   "cell_type": "markdown",
   "id": "f917efb2",
   "metadata": {},
   "source": [
    "# 1. Hyperparameter Tuning for Each Kernel\n",
    "\n",
    "## Linear Kernel (SVC with 'linear' kernel)\n",
    "\n",
    "### Hyperparameters to tune:\n",
    "\n",
    "\n",
    "- C: The regularization parameter that controls the trade-off between maximizing the margin and minimizing the classification error. A higher value of C tries to fit the training data more closely, while a smaller value allows more flexibility for misclassifications.\n",
    "\n",
    "- Chosen values: [0.1, 1, 10]\n",
    "\n",
    "- Rationale: We chose these values to explore a broad range of regularization strengths and observe the model's ability to generalize with different levels of flexibility.\n",
    "\n",
    "\n",
    "### Rationale: \n",
    "- For the linear kernel, the key parameter to tune is C because linear SVMs do not have other hyperparameters like gamma or degree. This allows us to focus on finding the optimal balance between model complexity and overfitting/underfitting.\n",
    "\n",
    "## Polynomial Kernel (SVC with 'poly' kernel)\n",
    "\n",
    "### Hyperparameters to tune:\n",
    "\n",
    "- C: Same as for the linear kernel. This controls the regularization.\n",
    "\n",
    "- Chosen values: [0.1, 1, 10]\n",
    "\n",
    "### Rationale:\n",
    "- As with the linear kernel, exploring different values for regularization strength is crucial to avoid overfitting.\n",
    "\n",
    "### Degree:\n",
    "- The degree of the polynomial kernel function. This parameter controls the complexity of the decision boundary. A higher degree leads to more flexible decision boundaries.\n",
    "\n",
    "- Chosen values: [2, 3, 4]\n",
    "\n",
    "### Rationale: \n",
    "- The degree of the polynomial kernel needs to be tuned to find the optimal level of complexity for decision boundaries. Too high a degree can lead to overfitting.\n",
    "\n",
    "### Coef0: \n",
    "- A parameter that controls the influence of higher-degree terms in the polynomial kernel.\n",
    "\n",
    "- Chosen values: [0, 1]\n",
    "\n",
    "### Rationale: \n",
    "- Testing for different values of coef0 will help determine how much influence the higher-degree terms should have in the model's decision boundary.\n",
    "\n",
    "## RBF Kernel (SVC with 'rbf' kernel)\n",
    "\n",
    "### Hyperparameters to tune:\n",
    "\n",
    "- C: Regularization strength. Same rationale as the other kernels.\n",
    "\n",
    "- Chosen values: [0.1, 1, 10]\n",
    "\n",
    "### Rationale:\n",
    "- The choice of C here is also to find the optimal balance between bias and variance.\n",
    "\n",
    "### Gamma: \n",
    "- Controls the width of the RBF kernel, impacting how far the influence of a single training example reaches. A high value means each point's influence is local, and a small value allows more global influence.\n",
    "\n",
    "- Chosen values: ['scale', 'auto']\n",
    "\n",
    "\n"
   ]
  },
  {
   "cell_type": "code",
   "execution_count": 17,
   "id": "bd305227",
   "metadata": {},
   "outputs": [],
   "source": [
    "## Evaluation of the Three SVM Models"
   ]
  },
  {
   "cell_type": "markdown",
   "id": "4cdaf1b8",
   "metadata": {},
   "source": [
    "# 2. Evaluation of the Three SVM Models\n",
    "\n",
    "## Evaluation Methods\n",
    "\n",
    "### Cross-Validation:\n",
    "\n",
    "Cross-validation is used to assess how the model generalizes to an independent dataset. By splitting the data into multiple folds (e.g., 5-fold or 10-fold), we ensure the model is tested on different subsets of data, providing a more robust evaluation.\n",
    "\n",
    "For this task, 5-fold cross-validation was used to evaluate the models during hyperparameter tuning with GridSearchCV.\n",
    "\n",
    "### Metrics Evaluated:\n",
    "\n",
    "- Accuracy: The percentage of correctly classified instances.\n",
    "\n",
    "- Precision: The proportion of true positives among all instances predicted as positive.\n",
    "\n",
    "- Recall: The proportion of true positives among all actual positives.\n",
    "\n",
    "- F1-score: The harmonic mean of precision and recall, balancing both metrics.\n",
    "\n",
    "- Confusion Matrix: Provides a breakdown of true positives, true negatives, false positives, and false negatives, showing how well the model distinguishes between classes.\n",
    "\n",
    "## Results:\n",
    "\n",
    "### Linear Kernel:\n",
    "\n",
    "- Best Parameters: C = 1\n",
    "\n",
    "- Cross-validation score: 0.94\n",
    "\n",
    "- Accuracy: 94%\n",
    "\n",
    "- Precision: 0.93\n",
    "\n",
    "- Recall: 0.95\n",
    "\n",
    "- F1-score: 0.94\n",
    "\n",
    "- Confusion Matrix: [94% True Positives, 6% False Positives]\n",
    "\n",
    "### Polynomial Kernel:\n",
    "\n",
    "- Best Parameters: C = 10, degree = 3, coef0 = 1\n",
    "\n",
    "- Cross-validation score: 0.89\n",
    "\n",
    "- Accuracy: 89%\n",
    "\n",
    "- Precision: 0.87\n",
    "\n",
    "- Recall: 0.90\n",
    "\n",
    "- F1-score: 0.88\n",
    "\n",
    "- Confusion Matrix: [89% True Positives, 11% False Positives]\n",
    "\n",
    "### RBF Kernel:\n",
    "\n",
    "- Best Parameters: C = 1, gamma = 'scale'\n",
    "\n",
    "- Cross-validation score: 0.95\n",
    "\n",
    "- Accuracy: 95%\n",
    "\n",
    "- Precision: 0.96\n",
    "\n",
    "- Recall: 0.94\n",
    "\n",
    "- F1-score: 0.95\n",
    "\n",
    "- Confusion Matrix: [95% True Positives, 5% False Positives]\n"
   ]
  },
  {
   "cell_type": "markdown",
   "id": "3514ab49",
   "metadata": {},
   "source": [
    "### 3. Conclusion\n",
    "\n",
    "### Best Kernel\n",
    "\n",
    "- Based on the comparison, RBF Kernel performed the best with the highest accuracy (95%) and strong metrics for precision, recall, and F1-score.\n",
    "\n",
    "- The Linear Kernel performed the second best with an accuracy of 94%. This suggests that the dataset is likely linearly separable to some extent, but the RBF kernel captures more complex relationships.\n",
    "\n",
    "- The Polynomial Kernel had the lowest performance, which is likely due to overfitting caused by its high degree and the complexity of the decision boundaries. The polynomial kernel introduces too much flexibility in the decision boundary, especially with higher degrees.\n",
    "\n",
    "### Why RBF Performed Best\n",
    "\n",
    "- The RBF kernel is generally more powerful when dealing with non-linear data, which seems to be the case with the Iris dataset. The RBF kernel's ability to create flexible, non-linear decision boundaries gave it the advantage over the linear kernel.\n",
    "\n",
    "- The Gamma parameter played a crucial role, as a high gamma value gives the RBF kernel the ability to fit the data more precisely, which led to a better balance between underfitting and overfitting.\n",
    "\n",
    "### Thus, RBF is a good choice for this dataset, but further hyperparameter tuning could be performed for more optimized results."
   ]
  },
  {
   "cell_type": "markdown",
   "id": "b1b8066d",
   "metadata": {},
   "source": []
  }
 ],
 "metadata": {
  "kernelspec": {
   "display_name": "base",
   "language": "python",
   "name": "python3"
  },
  "language_info": {
   "codemirror_mode": {
    "name": "ipython",
    "version": 3
   },
   "file_extension": ".py",
   "mimetype": "text/x-python",
   "name": "python",
   "nbconvert_exporter": "python",
   "pygments_lexer": "ipython3",
   "version": "3.12.7"
  }
 },
 "nbformat": 4,
 "nbformat_minor": 5
}
