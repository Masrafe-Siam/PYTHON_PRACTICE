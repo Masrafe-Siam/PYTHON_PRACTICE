{
  "cells": [
    {
      "cell_type": "markdown",
      "metadata": {},
      "source": [
        "# DS 424 — Lab Final (Topic B)\n",
        "_Auto-generated: 2025-08-20 12:00:18_\n",
        "\n",
        "## Tiny Image Augmentation + CNN (3 classes: 0,1,2)\n",
        "We load three 32×32 grayscale seed images (`zero_0.png`, `one_0.png`, `two_0.png`), show them in a 1×3 grid, build a mini dataset via augmentation (≥20 per class; hold out 12 for testing), train a compact CNN (two optimizers × two learning rates, ≤25 epochs), plot train vs val accuracy, and evaluate on the held-out test set with accuracy/precision/recall/F1 (macro) and a confusion matrix, followed by a short conclusion.\n",
        "\n",
        "> If the PNGs are missing, this notebook will auto-create simple digit-like seeds so it runs end-to-end."
      ]
    },
    {
      "cell_type": "code",
      "execution_count": 12,
      "id": "31ebdd52",
      "metadata": {},
      "outputs": [
        {
          "name": "stdout",
          "output_type": "stream",
          "text": [
            "Collecting opencv-python\n",
            "  Downloading opencv_python-4.12.0.88-cp37-abi3-win_amd64.whl.metadata (19 kB)\n",
            "Requirement already satisfied: numpy<2.3.0,>=2 in c:\\users\\dcl\\appdata\\local\\programs\\python\\python312\\lib\\site-packages (from opencv-python) (2.2.2)\n",
            "Downloading opencv_python-4.12.0.88-cp37-abi3-win_amd64.whl (39.0 MB)\n",
            "   ---------------------------------------- 0.0/39.0 MB ? eta -:--:--\n",
            "    --------------------------------------- 0.8/39.0 MB 6.7 MB/s eta 0:00:06\n",
            "    --------------------------------------- 0.8/39.0 MB 6.7 MB/s eta 0:00:06\n",
            "   - -------------------------------------- 1.0/39.0 MB 2.4 MB/s eta 0:00:16\n",
            "   - -------------------------------------- 1.6/39.0 MB 2.1 MB/s eta 0:00:18\n",
            "   -- ------------------------------------- 2.1/39.0 MB 2.0 MB/s eta 0:00:19\n",
            "   -- ------------------------------------- 2.4/39.0 MB 1.9 MB/s eta 0:00:20\n",
            "   -- ------------------------------------- 2.9/39.0 MB 2.0 MB/s eta 0:00:19\n",
            "   --- ------------------------------------ 3.1/39.0 MB 2.0 MB/s eta 0:00:19\n",
            "   --- ------------------------------------ 3.7/39.0 MB 1.9 MB/s eta 0:00:19\n",
            "   ---- ----------------------------------- 3.9/39.0 MB 1.9 MB/s eta 0:00:19\n",
            "   ---- ----------------------------------- 4.5/39.0 MB 1.9 MB/s eta 0:00:18\n",
            "   ---- ----------------------------------- 4.7/39.0 MB 1.9 MB/s eta 0:00:18\n",
            "   ----- ---------------------------------- 5.2/39.0 MB 1.9 MB/s eta 0:00:18\n",
            "   ----- ---------------------------------- 5.5/39.0 MB 1.9 MB/s eta 0:00:18\n",
            "   ------ --------------------------------- 6.0/39.0 MB 1.9 MB/s eta 0:00:18\n",
            "   ------ --------------------------------- 6.3/39.0 MB 1.9 MB/s eta 0:00:18\n",
            "   ------ --------------------------------- 6.8/39.0 MB 1.9 MB/s eta 0:00:18\n",
            "   ------- -------------------------------- 7.1/39.0 MB 1.9 MB/s eta 0:00:17\n",
            "   ------- -------------------------------- 7.6/39.0 MB 1.9 MB/s eta 0:00:17\n",
            "   -------- ------------------------------- 7.9/39.0 MB 1.9 MB/s eta 0:00:17\n",
            "   -------- ------------------------------- 8.4/39.0 MB 1.9 MB/s eta 0:00:17\n",
            "   -------- ------------------------------- 8.7/39.0 MB 1.9 MB/s eta 0:00:17\n",
            "   --------- ------------------------------ 9.2/39.0 MB 1.9 MB/s eta 0:00:16\n",
            "   --------- ------------------------------ 9.7/39.0 MB 1.9 MB/s eta 0:00:16\n",
            "   ---------- ----------------------------- 10.0/39.0 MB 1.9 MB/s eta 0:00:16\n",
            "   ---------- ----------------------------- 10.5/39.0 MB 1.9 MB/s eta 0:00:16\n",
            "   ----------- ---------------------------- 10.7/39.0 MB 1.9 MB/s eta 0:00:16\n",
            "   ----------- ---------------------------- 11.3/39.0 MB 1.9 MB/s eta 0:00:15\n",
            "   ----------- ---------------------------- 11.5/39.0 MB 1.9 MB/s eta 0:00:15\n",
            "   ------------ --------------------------- 12.1/39.0 MB 1.9 MB/s eta 0:00:15\n",
            "   ------------ --------------------------- 12.3/39.0 MB 1.9 MB/s eta 0:00:15\n",
            "   ------------- -------------------------- 12.8/39.0 MB 1.9 MB/s eta 0:00:15\n",
            "   ------------- -------------------------- 13.1/39.0 MB 1.9 MB/s eta 0:00:14\n",
            "   ------------- -------------------------- 13.6/39.0 MB 1.9 MB/s eta 0:00:14\n",
            "   -------------- ------------------------- 13.9/39.0 MB 1.9 MB/s eta 0:00:14\n",
            "   -------------- ------------------------- 14.4/39.0 MB 1.9 MB/s eta 0:00:14\n",
            "   --------------- ------------------------ 14.7/39.0 MB 1.9 MB/s eta 0:00:14\n",
            "   --------------- ------------------------ 15.2/39.0 MB 1.9 MB/s eta 0:00:13\n",
            "   --------------- ------------------------ 15.5/39.0 MB 1.9 MB/s eta 0:00:13\n",
            "   ---------------- ----------------------- 16.0/39.0 MB 1.9 MB/s eta 0:00:13\n",
            "   ---------------- ----------------------- 16.3/39.0 MB 1.9 MB/s eta 0:00:13\n",
            "   ----------------- ---------------------- 16.8/39.0 MB 1.9 MB/s eta 0:00:13\n",
            "   ----------------- ---------------------- 17.0/39.0 MB 1.9 MB/s eta 0:00:12\n",
            "   ----------------- ---------------------- 17.3/39.0 MB 1.9 MB/s eta 0:00:12\n",
            "   ------------------ --------------------- 17.8/39.0 MB 1.8 MB/s eta 0:00:12\n",
            "   ------------------ --------------------- 18.1/39.0 MB 1.8 MB/s eta 0:00:12\n",
            "   ------------------- -------------------- 18.6/39.0 MB 1.8 MB/s eta 0:00:12\n",
            "   ------------------- -------------------- 18.9/39.0 MB 1.8 MB/s eta 0:00:11\n",
            "   ------------------- -------------------- 19.4/39.0 MB 1.8 MB/s eta 0:00:11\n",
            "   -------------------- ------------------- 19.7/39.0 MB 1.8 MB/s eta 0:00:11\n",
            "   -------------------- ------------------- 20.2/39.0 MB 1.8 MB/s eta 0:00:11\n",
            "   -------------------- ------------------- 20.4/39.0 MB 1.8 MB/s eta 0:00:11\n",
            "   --------------------- ------------------ 21.0/39.0 MB 1.8 MB/s eta 0:00:10\n",
            "   --------------------- ------------------ 21.2/39.0 MB 1.8 MB/s eta 0:00:10\n",
            "   ---------------------- ----------------- 21.8/39.0 MB 1.8 MB/s eta 0:00:10\n",
            "   ---------------------- ----------------- 22.0/39.0 MB 1.8 MB/s eta 0:00:10\n",
            "   ----------------------- ---------------- 22.5/39.0 MB 1.8 MB/s eta 0:00:09\n",
            "   ----------------------- ---------------- 22.8/39.0 MB 1.8 MB/s eta 0:00:09\n",
            "   ----------------------- ---------------- 23.3/39.0 MB 1.8 MB/s eta 0:00:09\n",
            "   ------------------------ --------------- 23.6/39.0 MB 1.8 MB/s eta 0:00:09\n",
            "   ------------------------ --------------- 24.1/39.0 MB 1.8 MB/s eta 0:00:09\n",
            "   ------------------------- -------------- 24.4/39.0 MB 1.8 MB/s eta 0:00:08\n",
            "   ------------------------- -------------- 24.9/39.0 MB 1.8 MB/s eta 0:00:08\n",
            "   ------------------------- -------------- 25.2/39.0 MB 1.8 MB/s eta 0:00:08\n",
            "   -------------------------- ------------- 25.7/39.0 MB 1.8 MB/s eta 0:00:08\n",
            "   -------------------------- ------------- 26.0/39.0 MB 1.8 MB/s eta 0:00:08\n",
            "   --------------------------- ------------ 26.5/39.0 MB 1.8 MB/s eta 0:00:07\n",
            "   --------------------------- ------------ 26.7/39.0 MB 1.8 MB/s eta 0:00:07\n",
            "   --------------------------- ------------ 27.3/39.0 MB 1.8 MB/s eta 0:00:07\n",
            "   ---------------------------- ----------- 27.5/39.0 MB 1.8 MB/s eta 0:00:07\n",
            "   ---------------------------- ----------- 28.0/39.0 MB 1.8 MB/s eta 0:00:06\n",
            "   ----------------------------- ---------- 28.3/39.0 MB 1.8 MB/s eta 0:00:06\n",
            "   ----------------------------- ---------- 28.8/39.0 MB 1.8 MB/s eta 0:00:06\n",
            "   ----------------------------- ---------- 29.1/39.0 MB 1.8 MB/s eta 0:00:06\n",
            "   ------------------------------ --------- 29.6/39.0 MB 1.8 MB/s eta 0:00:06\n",
            "   ------------------------------ --------- 29.9/39.0 MB 1.8 MB/s eta 0:00:05\n",
            "   ------------------------------- -------- 30.4/39.0 MB 1.8 MB/s eta 0:00:05\n",
            "   ------------------------------- -------- 30.7/39.0 MB 1.8 MB/s eta 0:00:05\n",
            "   ------------------------------- -------- 31.2/39.0 MB 1.8 MB/s eta 0:00:05\n",
            "   -------------------------------- ------- 31.5/39.0 MB 1.8 MB/s eta 0:00:05\n",
            "   -------------------------------- ------- 32.0/39.0 MB 1.8 MB/s eta 0:00:04\n",
            "   --------------------------------- ------ 32.2/39.0 MB 1.8 MB/s eta 0:00:04\n",
            "   --------------------------------- ------ 32.8/39.0 MB 1.8 MB/s eta 0:00:04\n",
            "   --------------------------------- ------ 33.0/39.0 MB 1.8 MB/s eta 0:00:04\n",
            "   ---------------------------------- ----- 33.6/39.0 MB 1.8 MB/s eta 0:00:03\n",
            "   ---------------------------------- ----- 33.8/39.0 MB 1.8 MB/s eta 0:00:03\n",
            "   ----------------------------------- ---- 34.3/39.0 MB 1.8 MB/s eta 0:00:03\n",
            "   ----------------------------------- ---- 34.6/39.0 MB 1.8 MB/s eta 0:00:03\n",
            "   ------------------------------------ --- 35.1/39.0 MB 1.8 MB/s eta 0:00:03\n",
            "   ------------------------------------ --- 35.4/39.0 MB 1.8 MB/s eta 0:00:02\n",
            "   ------------------------------------ --- 35.9/39.0 MB 1.8 MB/s eta 0:00:02\n",
            "   ------------------------------------- -- 36.2/39.0 MB 1.8 MB/s eta 0:00:02\n",
            "   ------------------------------------- -- 36.4/39.0 MB 1.8 MB/s eta 0:00:02\n",
            "   ------------------------------------- -- 37.0/39.0 MB 1.8 MB/s eta 0:00:02\n",
            "   -------------------------------------- - 37.5/39.0 MB 1.8 MB/s eta 0:00:01\n",
            "   -------------------------------------- - 37.7/39.0 MB 1.8 MB/s eta 0:00:01\n",
            "   -------------------------------------- - 38.0/39.0 MB 1.8 MB/s eta 0:00:01\n",
            "   ---------------------------------------  38.5/39.0 MB 1.8 MB/s eta 0:00:01\n",
            "   ---------------------------------------  38.8/39.0 MB 1.8 MB/s eta 0:00:01\n",
            "   ---------------------------------------- 39.0/39.0 MB 1.8 MB/s eta 0:00:00\n",
            "Installing collected packages: opencv-python\n",
            "Successfully installed opencv-python-4.12.0.88\n",
            "Note: you may need to restart the kernel to use updated packages.\n"
          ]
        },
        {
          "name": "stderr",
          "output_type": "stream",
          "text": [
            "\n",
            "[notice] A new release of pip is available: 25.0 -> 25.2\n",
            "[notice] To update, run: python.exe -m pip install --upgrade pip\n"
          ]
        }
      ],
      "source": [
        "%pip install opencv-python"
      ]
    },
    {
      "cell_type": "code",
      "execution_count": 13,
      "metadata": {},
      "outputs": [],
      "source": [
        "import os, numpy as np, matplotlib.pyplot as plt\n",
        "import cv2\n",
        "import tensorflow as tf\n",
        "from tensorflow import keras\n",
        "from sklearn.metrics import accuracy_score, precision_recall_fscore_support, confusion_matrix\n",
        "np.random.seed(123)\n",
        "tf.random.set_seed(123)\n"
      ]
    },
    {
      "cell_type": "markdown",
      "metadata": {},
      "source": [
        "### 1) Load & Show seed images (1×3 grid)"
      ]
    },
    {
      "cell_type": "code",
      "execution_count": 15,
      "metadata": {},
      "outputs": [
        {
          "data": {
            "image/png": "[encoded data removed]",
            "text/plain": [
              "<Figure size 800x300 with 3 Axes>"
            ]
          },
          "metadata": {},
          "output_type": "display_data"
        }
      ],
      "source": [
        "SEED_DIR='.'\n",
        "seed_files=[('zero_0.png',0),('one_0.png',1),('two_0.png',2)]\n",
        "def ensure_seed_images():\n",
        "    for fname, digit in seed_files:\n",
        "        path=os.path.join(SEED_DIR,fname)\n",
        "        if not os.path.exists(path):\n",
        "            img=np.zeros((32,32),dtype=np.uint8)\n",
        "            (w,h),baseline=cv2.getTextSize(str(digit),cv2.FONT_HERSHEY_SIMPLEX,0.9,2)\n",
        "            x=(32-w)//2; y=(32+h)//2\n",
        "            cv2.putText(img,str(digit),(x,y),cv2.FONT_HERSHEY_SIMPLEX,0.9,255,2,cv2.LINE_AA)\n",
        "            cv2.imwrite(path,img)\n",
        "            print('[INFO] Created seed:', path)\n",
        "ensure_seed_images()\n",
        "\n",
        "imgs=[]; labels=[]\n",
        "for fname,lab in seed_files:\n",
        "    img=cv2.imread(os.path.join(SEED_DIR,fname),cv2.IMREAD_GRAYSCALE)\n",
        "    if img is None:\n",
        "        raise FileNotFoundError(fname)\n",
        "    img=cv2.resize(img,(32,32))\n",
        "    imgs.append(img); labels.append(lab)\n",
        "imgs=np.array(imgs); labels=np.array(labels)\n",
        "plt.figure(figsize=(8,3))\n",
        "for i in range(3):\n",
        "    plt.subplot(1,3,i+1)\n",
        "    plt.imshow(imgs[i],cmap='gray')\n",
        "    plt.title(f'Label {labels[i]}'); plt.axis('off')\n",
        "plt.tight_layout(); plt.show()"
      ]
    },
    {
      "cell_type": "markdown",
      "metadata": {},
      "source": [
        "### 2) Augmentation — Build mini-dataset (≥20/class) & hold out test"
      ]
    },
    {
      "cell_type": "code",
      "execution_count": null,
      "metadata": {},
      "outputs": [
        {
          "ename": "UnboundLocalError",
          "evalue": "cannot access local variable 'np' where it is not associated with a value",
          "output_type": "error",
          "traceback": [
            "\u001b[31m---------------------------------------------------------------------------\u001b[39m",
            "\u001b[31mUnboundLocalError\u001b[39m                         Traceback (most recent call last)",
            "\u001b[36mCell\u001b[39m\u001b[36m \u001b[39m\u001b[32mIn[16]\u001b[39m\u001b[32m, line 31\u001b[39m\n\u001b[32m     29\u001b[39m     \u001b[38;5;28mprint\u001b[39m(\u001b[33m'\u001b[39m\u001b[33mTrain:\u001b[39m\u001b[33m'\u001b[39m,Xtr.shape,\u001b[33m'\u001b[39m\u001b[33m Test:\u001b[39m\u001b[33m'\u001b[39m,Xte.shape)\n\u001b[32m     30\u001b[39m     \u001b[38;5;28;01mreturn\u001b[39;00m Xtr,Ytr,Xte,Yte\n\u001b[32m---> \u001b[39m\u001b[32m31\u001b[39m X_train,y_train,X_test,y_test=\u001b[43mmake_dataset\u001b[49m\u001b[43m(\u001b[49m\u001b[43m)\u001b[49m\n",
            "\u001b[36mCell\u001b[39m\u001b[36m \u001b[39m\u001b[32mIn[16]\u001b[39m\u001b[32m, line 16\u001b[39m, in \u001b[36mmake_dataset\u001b[39m\u001b[34m(per_class_train, per_class_test)\u001b[39m\n\u001b[32m     14\u001b[39m \u001b[38;5;28;01mfor\u001b[39;00m idx,(fname,lab) \u001b[38;5;129;01min\u001b[39;00m \u001b[38;5;28menumerate\u001b[39m(seed_files):\n\u001b[32m     15\u001b[39m     img=imgs[idx].astype(\u001b[33m'\u001b[39m\u001b[33mfloat32\u001b[39m\u001b[33m'\u001b[39m)/\u001b[32m255.0\u001b[39m\n\u001b[32m---> \u001b[39m\u001b[32m16\u001b[39m     img=\u001b[43mnp\u001b[49m.expand_dims(img,-\u001b[32m1\u001b[39m)\n\u001b[32m     17\u001b[39m     \u001b[38;5;28;01mfor\u001b[39;00m _ \u001b[38;5;129;01min\u001b[39;00m \u001b[38;5;28mrange\u001b[39m(per_class_train):\n\u001b[32m     18\u001b[39m         x=tf.convert_to_tensor(img[\u001b[38;5;28;01mNone\u001b[39;00m,...])\n",
            "\u001b[31mUnboundLocalError\u001b[39m: cannot access local variable 'np' where it is not associated with a value"
          ]
        }
      ],
      "source": [
        "augment=keras.Sequential([\n",
        "    keras.layers.Rescaling(1./255),\n",
        "    keras.layers.RandomRotation(0.08),\n",
        "    keras.layers.RandomTranslation(0.09,0.09),\n",
        "    keras.layers.RandomFlip('horizontal'),\n",
        "    keras.layers.RandomZoom(0.1),\n",
        "    keras.layers.RandomContrast(0.1)\n",
        "])\n",
        "def add_noise(x,std=0.08):\n",
        "    noise=tf.random.normal(shape=tf.shape(x),mean=0.0,stddev=std,dtype=x.dtype)\n",
        "    return tf.clip_by_value(x+noise,0.0,1.0)\n",
        "def make_dataset(per_class_train=28, per_class_test=4):\n",
        "    Xtr,Ytr,Xte,Yte=[],[],[],[]\n",
        "    for idx,(fname,lab) in enumerate(seed_files):\n",
        "        img=imgs[idx].astype('float32')/255.0\n",
        "        img=np.expand_dims(img,-1)\n",
        "        for _ in range(per_class_train):\n",
        "            x=tf.convert_to_tensor(img[None,...])\n",
        "            x=augment(x,training=True); x=add_noise(x)\n",
        "            Xtr.append(x.numpy()[0]); Ytr.append(lab)\n",
        "        for _ in range(per_class_test):\n",
        "            x=tf.convert_to_tensor(img[None,...])\n",
        "            x=augment(x,training=True); x=add_noise(x)\n",
        "            Xte.append(x.numpy()[0]); Yte.append(lab)\n",
        "        Xtr.append(img); Ytr.append(lab)\n",
        "    Xtr=np.array(Xtr,'float32'); Ytr=np.array(Ytr,'int32')\n",
        "    Xte=np.array(Xte,'float32'); Yte=np.array(Yte,'int32')\n",
        "    print('Train:',Xtr.shape,' Test:',Xte.shape)\n",
        "    return Xtr,Ytr,Xte,Yte\n",
        "X_train,y_train,X_test,y_test=make_dataset()"
      ]
    },
    {
      "cell_type": "markdown",
      "metadata": {},
      "source": [
        "### 3) CNN — Try two optimizers × two LRs (≤25 epochs)"
      ]
    },
    {
      "cell_type": "code",
      "execution_count": null,
      "metadata": {},
      "outputs": [],
      "source": [
        "def build_cnn(input_shape=(32,32,1), lr=1e-3, optimizer_name='adam', n_classes=3):\n",
        "    model=keras.Sequential([\n",
        "        keras.layers.Input(shape=input_shape),\n",
        "        keras.layers.Conv2D(16,3,activation='relu',padding='same'),\n",
        "        keras.layers.MaxPooling2D(),\n",
        "        keras.layers.Conv2D(32,3,activation='relu',padding='same'),\n",
        "        keras.layers.MaxPooling2D(),\n",
        "        keras.layers.Flatten(),\n",
        "        keras.layers.Dense(32,activation='relu'),\n",
        "        keras.layers.Dense(n_classes,activation='softmax')\n",
        "    ])\n",
        "    opt=keras.optimizers.Adam(lr) if optimizer_name.lower()=='adam' else keras.optimizers.SGD(lr,momentum=0.9)\n",
        "    model.compile(optimizer=opt, loss='sparse_categorical_crossentropy', metrics=['accuracy'])\n",
        "    return model\n",
        "configs=[('adam',1e-3),('adam',1e-2),('sgd',1e-3),('sgd',1e-2)]\n",
        "evals=[]\n",
        "for opt_name,lr in configs:\n",
        "    model=build_cnn(lr=lr,optimizer_name=opt_name)\n",
        "    h=model.fit(X_train,y_train,validation_split=0.2,epochs=25,batch_size=16,verbose=0)\n",
        "    proba=model.predict(X_test,verbose=0)\n",
        "    y_pred=np.argmax(proba,axis=1)\n",
        "    acc=accuracy_score(y_test,y_pred)\n",
        "    prec,rec,f1,_=precision_recall_fscore_support(y_test,y_pred,average='macro',zero_division=0)\n",
        "    cm=confusion_matrix(y_test,y_pred,labels=[0,1,2])\n",
        "    evals.append({'optimizer':opt_name,'lr':lr,'accuracy':acc,'precision_macro':prec,'recall_macro':rec,'f1_macro':f1,'cm':cm,'history':h.history})\n",
        "import pandas as pd\n",
        "evals_df=pd.DataFrame([{k:v for k,v in r.items() if k not in ('cm','history')} for r in evals])\n",
        "display(evals_df.sort_values(['f1_macro','accuracy'],ascending=False))\n",
        "best_idx=evals_df.sort_values(['f1_macro','accuracy'],ascending=False).index[0]\n",
        "bestB=evals[int(best_idx)]\n",
        "print(f\"Best: optimizer={bestB['optimizer']}  lr={bestB['lr']}\")\n",
        "print('Test: ACC={:.3f}  PREC={:.3f}  REC={:.3f}  F1={:.3f}'.format(bestB['accuracy'],bestB['precision_macro'],bestB['recall_macro'],bestB['f1_macro']))\n",
        "\n",
        "plt.figure(figsize=(5,3))\n",
        "plt.plot(bestB['history']['accuracy'],label='train_acc')\n",
        "plt.plot(bestB['history']['val_accuracy'],label='val_acc')\n",
        "plt.title('Training vs Validation Accuracy (Best Config)')\n",
        "plt.xlabel('Epoch'); plt.ylabel('Accuracy'); plt.legend(); plt.tight_layout(); plt.show()\n",
        "\n",
        "plt.figure(figsize=(4,4))\n",
        "plt.imshow(bestB['cm'], interpolation='nearest')\n",
        "plt.title('Confusion Matrix (Best Config)')\n",
        "plt.colorbar();\n",
        "ticks=np.arange(3); plt.xticks(ticks,['0','1','2']); plt.yticks(ticks,['0','1','2'])\n",
        "for i in range(3):\n",
        "    for j in range(3):\n",
        "        plt.text(j,i,int(bestB['cm'][i,j]),ha='center',va='center')\n",
        "plt.ylabel('True label'); plt.xlabel('Predicted label')\n",
        "plt.tight_layout(); plt.show()"
      ]
    },
    {
      "cell_type": "markdown",
      "metadata": {},
      "source": [
        "### 4) Conclusion (3–5 lines)"
      ]
    },
    {
      "cell_type": "code",
      "execution_count": null,
      "metadata": {},
      "outputs": [],
      "source": [
        "hist=bestB['history']\n",
        "train_acc_last=hist['accuracy'][-1]\n",
        "val_acc_last=hist['val_accuracy'][-1]\n",
        "gap=train_acc_last-val_acc_last\n",
        "fit_comment='Possible overfitting.' if gap>0.03 else 'No strong signs of overfitting.'\n",
        "print(\n",
        "    f\"Best config: {bestB['optimizer'].upper()} @ lr={bestB['lr']}. \"\n",
        "    f\"Test ACC={bestB['accuracy']:.3f}, PREC={bestB['precision_macro']:.3f}, REC={bestB['recall_macro']:.3f}, F1={bestB['f1_macro']:.3f}. \"\n",
        "    f\"Val acc {val_acc_last:.3f} vs train {train_acc_last:.3f}. {fit_comment}\"\n",
        ")"
      ]
    }
  ],
  "metadata": {
    "authors": [
      {
        "name": "Generated by ChatGPT (Kazi)"
      }
    ],
    "created": "2025-08-20 12:00:18",
    "kernelspec": {
      "display_name": "Python 3",
      "language": "python",
      "name": "python3"
    },
    "language_info": {
      "codemirror_mode": {
        "name": "ipython",
        "version": 3
      },
      "file_extension": ".py",
      "mimetype": "text/x-python",
      "name": "python",
      "nbconvert_exporter": "python",
      "pygments_lexer": "ipython3",
      "version": "3.12.4"
    }
  },
  "nbformat": 4,
  "nbformat_minor": 5
}
