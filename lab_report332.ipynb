{
 "cells": [
  {
   "cell_type": "code",
   "execution_count": 1,
   "id": "ce60ca6d",
   "metadata": {},
   "outputs": [
    {
     "name": "stdout",
     "output_type": "stream",
     "text": [
      "Conversion complete. Saved to db_dump.csv\n"
     ]
    }
   ],
   "source": [
    "import csv\n",
    "import re\n",
    "\n",
    "def sql_to_csv(sql_file, csv_file, table_name=None):\n",
    "    insert_pattern = re.compile(\n",
    "        r\"INSERT INTO\\s+`?(?P<table>\\w+)`?\\s+VALUES\\s*(?P<values>.+);\", re.IGNORECASE | re.DOTALL\n",
    "    )\n",
    "    value_pattern = re.compile(r\"\\((.*?)\\)\")\n",
    "    \n",
    "    with open(sql_file, 'r', encoding='utf-8') as f:\n",
    "        content = f.read()\n",
    "    \n",
    "    # Filter insert statements\n",
    "    inserts = insert_pattern.findall(content)\n",
    "    \n",
    "    rows = []\n",
    "    for table, values_str in inserts:\n",
    "        if table_name and table != table_name:\n",
    "            continue\n",
    "        matches = value_pattern.findall(values_str)\n",
    "        for match in matches:\n",
    "            row = [x.strip().strip(\"'\").replace(\"\\\\'\", \"'\") for x in match.split(',')]\n",
    "            rows.append(row)\n",
    "\n",
    "    # Guess column count from first row\n",
    "    max_columns = max(len(row) for row in rows)\n",
    "\n",
    "    # Write CSV\n",
    "    with open(csv_file, 'w', newline='', encoding='utf-8') as f:\n",
    "        writer = csv.writer(f)\n",
    "        for row in rows:\n",
    "            row += [''] * (max_columns - len(row))  # pad short rows\n",
    "            writer.writerow(row)\n",
    "\n",
    "    print(f\"Conversion complete. Saved to {csv_file}\")\n",
    "\n",
    "# Usage example\n",
    "sql_to_csv('db_dump.sql', 'db_dump.csv')\n"
   ]
  }
 ],
 "metadata": {
  "kernelspec": {
   "display_name": "base",
   "language": "python",
   "name": "python3"
  },
  "language_info": {
   "codemirror_mode": {
    "name": "ipython",
    "version": 3
   },
   "file_extension": ".py",
   "mimetype": "text/x-python",
   "name": "python",
   "nbconvert_exporter": "python",
   "pygments_lexer": "ipython3",
   "version": "3.12.7"
  }
 },
 "nbformat": 4,
 "nbformat_minor": 5
}
